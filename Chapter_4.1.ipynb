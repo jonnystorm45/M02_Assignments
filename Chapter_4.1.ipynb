{
 "cells": [
  {
   "cell_type": "code",
   "execution_count": 1,
   "id": "04b020f9",
   "metadata": {},
   "outputs": [
    {
     "name": "stdout",
     "output_type": "stream",
     "text": [
      "Please enter a Number Between 1 and 10 to Guess the Secret Number - 8\n",
      "Too High!\n",
      "Try Again? yes\n",
      "Please enter a Number Between 1 and 10 to Guess the Secret Number - 3\n",
      "Too Low!\n",
      "Try Again? yes\n",
      "Please enter a Number Between 1 and 10 to Guess the Secret Number - 6\n",
      "Just Right!\n",
      "Thanks for Playing!\n"
     ]
    }
   ],
   "source": [
    "def main():\n",
    "    secret_Number = 6\n",
    "\n",
    "    num_Guess = int(input(\"Please enter a Number Between 1 and 10 to Guess the Secret Number - \"))\n",
    "\n",
    "    if num_Guess > secret_Number:\n",
    "        print(\"Too High!\")\n",
    "        try_Again = input(\"Try Again? \").lower()\n",
    "        if try_Again == \"yes\":\n",
    "            main()\n",
    "        else:\n",
    "            print(\"Thanks for Playing!\")\n",
    "            exit()\n",
    "\n",
    "    elif num_Guess < secret_Number:\n",
    "        print(\"Too Low!\")\n",
    "        try_Again = input(\"Try Again? \").lower()\n",
    "        if try_Again == \"yes\":\n",
    "            main()\n",
    "        else:\n",
    "            print(\"Thanks for Playing!\")\n",
    "            exit()\n",
    "    else:\n",
    "        print(\"Just Right!\")\n",
    "        print(\"Thanks for Playing!\")\n",
    "        exit()\n",
    "\n",
    "\n",
    "main()"
   ]
  },
  {
   "cell_type": "code",
   "execution_count": 1,
   "id": "2528bcb0",
   "metadata": {},
   "outputs": [
    {
     "name": "stdout",
     "output_type": "stream",
     "text": [
      "Please enter a Number Between 1 and 10 to Guess the Secret Number - 8\n",
      "Too High!\n",
      "Try Again? no\n",
      "Thanks for Playing!\n"
     ]
    }
   ],
   "source": [
    "def main():\n",
    "    secret_Number = 6\n",
    "\n",
    "    num_Guess = int(input(\"Please enter a Number Between 1 and 10 to Guess the Secret Number - \"))\n",
    "\n",
    "    if num_Guess > secret_Number:\n",
    "        print(\"Too High!\")\n",
    "        try_Again = input(\"Try Again? \").lower()\n",
    "        if try_Again == \"yes\":\n",
    "            main()\n",
    "        else:\n",
    "            print(\"Thanks for Playing!\")\n",
    "            exit()\n",
    "\n",
    "    elif num_Guess < secret_Number:\n",
    "        print(\"Too Low!\")\n",
    "        try_Again = input(\"Try Again? \").lower()\n",
    "        if try_Again == \"yes\":\n",
    "            main()\n",
    "        else:\n",
    "            print(\"Thanks for Playing!\")\n",
    "            exit()\n",
    "    else:\n",
    "        print(\"Just Right!\")\n",
    "        print(\"Thanks for Playing!\")\n",
    "        exit()\n",
    "\n",
    "\n",
    "main()"
   ]
  },
  {
   "cell_type": "code",
   "execution_count": 1,
   "id": "2c82d733",
   "metadata": {},
   "outputs": [
    {
     "name": "stdout",
     "output_type": "stream",
     "text": [
      "Please enter a Number Between 1 and 10 to Guess the Secret Number - 3\n",
      "Too Low!\n",
      "Try Again? no\n",
      "Thanks for Playing!\n"
     ]
    }
   ],
   "source": [
    "def main():\n",
    "    secret_Number = 6\n",
    "\n",
    "    num_Guess = int(input(\"Please enter a Number Between 1 and 10 to Guess the Secret Number - \"))\n",
    "\n",
    "    if num_Guess > secret_Number:\n",
    "        print(\"Too High!\")\n",
    "        try_Again = input(\"Try Again? \").lower()\n",
    "        if try_Again == \"yes\":\n",
    "            main()\n",
    "        else:\n",
    "            print(\"Thanks for Playing!\")\n",
    "            exit()\n",
    "\n",
    "    elif num_Guess < secret_Number:\n",
    "        print(\"Too Low!\")\n",
    "        try_Again = input(\"Try Again? \").lower()\n",
    "        if try_Again == \"yes\":\n",
    "            main()\n",
    "        else:\n",
    "            print(\"Thanks for Playing!\")\n",
    "            exit()\n",
    "    else:\n",
    "        print(\"Just Right!\")\n",
    "        print(\"Thanks for Playing!\")\n",
    "        exit()\n",
    "\n",
    "\n",
    "main()"
   ]
  },
  {
   "cell_type": "code",
   "execution_count": null,
   "id": "fe41c554",
   "metadata": {},
   "outputs": [],
   "source": []
  }
 ],
 "metadata": {
  "kernelspec": {
   "display_name": "Python 3 (ipykernel)",
   "language": "python",
   "name": "python3"
  },
  "language_info": {
   "codemirror_mode": {
    "name": "ipython",
    "version": 3
   },
   "file_extension": ".py",
   "mimetype": "text/x-python",
   "name": "python",
   "nbconvert_exporter": "python",
   "pygments_lexer": "ipython3",
   "version": "3.9.13"
  }
 },
 "nbformat": 4,
 "nbformat_minor": 5
}
