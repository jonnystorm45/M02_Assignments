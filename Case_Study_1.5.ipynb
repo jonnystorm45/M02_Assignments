{
 "cells": [
  {
   "cell_type": "code",
   "execution_count": 1,
   "id": "c8b6ff15",
   "metadata": {
    "scrolled": true
   },
   "outputs": [
    {
     "name": "stdout",
     "output_type": "stream",
     "text": [
      "Please Enter Student's Last Name or 'ZZZ' to End Program - Anderson\n",
      "PLease Enter Student's First Name - Jonathan\n",
      "Please Enter Student's GPA on a 4.0 Scale -  4.0\n",
      "Jonathan Anderson has made the Dean's List!\n",
      "More Students GPAs to Test? yes\n",
      "Please Enter Student's Last Name or 'ZZZ' to End Program - Anderson\n",
      "PLease Enter Student's First Name - Storm\n",
      "Please Enter Student's GPA on a 4.0 Scale -  3.25\n",
      "Storm Anderson has made the Honor Roll!\n",
      "More Students GPAs to Test? yes\n",
      "Please Enter Student's Last Name or 'ZZZ' to End Program - Storm\n",
      "PLease Enter Student's First Name - Johnny \n",
      "Please Enter Student's GPA on a 4.0 Scale -  3.45\n",
      "Johnny  Storm has made the Honor Roll!\n",
      "More Students GPAs to Test? yes\n",
      "Please Enter Student's Last Name or 'ZZZ' to End Program - Doe\n",
      "PLease Enter Student's First Name - Jane\n",
      "Please Enter Student's GPA on a 4.0 Scale -  3.6\n",
      "Jane Doe has made the Dean's List!\n",
      "More Students GPAs to Test? Yes\n",
      "Please Enter Student's Last Name or 'ZZZ' to End Program - Doe\n",
      "PLease Enter Student's First Name - John\n",
      "Please Enter Student's GPA on a 4.0 Scale -  2.3\n",
      "John Doe has not made any lists.\n",
      "More Students GPAs to Test? no\n",
      "Program Ended!\n",
      "Thank you! Goodbye!\n"
     ]
    }
   ],
   "source": [
    "# Jonathan Storm Anderson\n",
    "# M02_Case_Study.py\n",
    "# This App will allow the user to enter either the last name and then first name of a student to test\n",
    "# a students GPA against the Deans List and Honor Roll requirements or input \"ZZZ\" and end the program.\n",
    "# There will also be an option to continue to enter students names and GPAs until there are no more to test.\n",
    "\n",
    "def main():\n",
    "    global Student_First_Name\n",
    "    Student_Last_Name = input(\"Please Enter Student's Last Name or 'ZZZ' to End Program - \")\n",
    "\n",
    "    while Student_Last_Name == \"ZZZ\":\n",
    "        print(\"Program Ended\")\n",
    "        break\n",
    "        exit()\n",
    "     \n",
    "        \n",
    "    if Student_Last_Name.lower() != \"ZZZ\":\n",
    "    \n",
    "        Student_First_Name = input(\"PLease Enter Student's First Name - \")\n",
    "\n",
    "        Student_GPA = float(input(\"Please Enter Student's GPA on a 4.0 Scale -  \"))\n",
    "\n",
    "        if Student_GPA >= 3.5:\n",
    "            print(Student_First_Name, Student_Last_Name, \"has made the Dean's List!\")\n",
    "        elif Student_GPA >= 3.25:\n",
    "            print(Student_First_Name, Student_Last_Name, \"has made the Honor Roll!\")\n",
    "        else:\n",
    "            print(Student_First_Name, Student_Last_Name, \"has not made any lists.\")\n",
    "    \n",
    "        restart = input(\"More Students GPAs to Test? \").lower()\n",
    "        if restart == \"yes\":\n",
    "            main()\n",
    "        else:\n",
    "            print(\"Program Ended!\")\n",
    "            print(\"Thank you! Goodbye!\")\n",
    "            exit() \n",
    "    else:\n",
    "            print(\"Thank you! Goodbye!\")\n",
    "            exit()\n",
    "\n",
    "\n",
    "main()"
   ]
  },
  {
   "cell_type": "code",
   "execution_count": 1,
   "id": "214a833f",
   "metadata": {},
   "outputs": [
    {
     "name": "stdout",
     "output_type": "stream",
     "text": [
      "Please Enter Student's Last Name or 'ZZZ' to End Program - ZZZ\n",
      "Program Ended\n",
      "Thank you! Goodbye!\n"
     ]
    }
   ],
   "source": [
    "# Jonathan Storm Anderson\n",
    "# M02_Case_Study.py\n",
    "# This App will allow the user to enter either the last name and then first name of a student to test\n",
    "# a students GPA against the Deans List and Honor Roll requirements or input \"ZZZ\" and end the program.\n",
    "# There will also be an option to continue to enter students names and GPAs until there are no more to test.\n",
    "\n",
    "def main():\n",
    "    global Student_First_Name\n",
    "    Student_Last_Name = input(\"Please Enter Student's Last Name or 'ZZZ' to End Program - \")\n",
    "\n",
    "    while Student_Last_Name == \"ZZZ\":\n",
    "        print(\"Program Ended\")\n",
    "        break\n",
    "        exit()\n",
    "     \n",
    "        \n",
    "    if Student_Last_Name.upper() != \"ZZZ\":\n",
    "    \n",
    "        Student_First_Name = input(\"PLease Enter Student's First Name - \")\n",
    "\n",
    "        Student_GPA = float(input(\"Please Enter Student's GPA on a 4.0 Scale -  \"))\n",
    "\n",
    "        if Student_GPA >= 3.5:\n",
    "            print(Student_First_Name, Student_Last_Name, \"has made the Dean's List!\")\n",
    "        elif Student_GPA >= 3.25:\n",
    "            print(Student_First_Name, Student_Last_Name, \"has made the Honor Roll!\")\n",
    "        else:\n",
    "            print(Student_First_Name, Student_Last_Name, \"has not made any lists.\")\n",
    "    \n",
    "        restart = input(\"More Students GPAs to Test? \").lower()\n",
    "        if restart == \"yes\":\n",
    "            main()\n",
    "        else:\n",
    "            print(\"Program Ended!\")\n",
    "            print(\"Thank you! Goodbye!\")\n",
    "            exit() \n",
    "    else:\n",
    "            print(\"Thank you! Goodbye!\")\n",
    "            exit()\n",
    "\n",
    "\n",
    "main()"
   ]
  },
  {
   "cell_type": "code",
   "execution_count": null,
   "id": "3d8c286d",
   "metadata": {},
   "outputs": [],
   "source": []
  }
 ],
 "metadata": {
  "kernelspec": {
   "display_name": "Python 3 (ipykernel)",
   "language": "python",
   "name": "python3"
  },
  "language_info": {
   "codemirror_mode": {
    "name": "ipython",
    "version": 3
   },
   "file_extension": ".py",
   "mimetype": "text/x-python",
   "name": "python",
   "nbconvert_exporter": "python",
   "pygments_lexer": "ipython3",
   "version": "3.9.13"
  }
 },
 "nbformat": 4,
 "nbformat_minor": 5
}
