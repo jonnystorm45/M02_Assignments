{
 "cells": [
  {
   "cell_type": "code",
   "execution_count": 1,
   "id": "8c6c2a84",
   "metadata": {},
   "outputs": [
    {
     "name": "stdout",
     "output_type": "stream",
     "text": [
      "Too Low!\n",
      "Too Low!\n",
      "Too Low!\n",
      "Too Low!\n",
      "Too Low!\n",
      "Too Low!\n",
      "Found It!\n"
     ]
    }
   ],
   "source": [
    "guess_me = 7\n",
    "number = 1\n",
    "\n",
    "\n",
    "while number < guess_me:\n",
    "    print(\"Too Low!\")\n",
    "    number += 1\n",
    "\n",
    "    if number > guess_me:\n",
    "        print(\"Opps!\")\n",
    "        number += 1\n",
    "\n",
    "    if number == guess_me:\n",
    "        print(\"Found It!\")"
   ]
  },
  {
   "cell_type": "code",
   "execution_count": null,
   "id": "b5f29556",
   "metadata": {},
   "outputs": [],
   "source": []
  }
 ],
 "metadata": {
  "kernelspec": {
   "display_name": "Python 3 (ipykernel)",
   "language": "python",
   "name": "python3"
  },
  "language_info": {
   "codemirror_mode": {
    "name": "ipython",
    "version": 3
   },
   "file_extension": ".py",
   "mimetype": "text/x-python",
   "name": "python",
   "nbconvert_exporter": "python",
   "pygments_lexer": "ipython3",
   "version": "3.9.13"
  }
 },
 "nbformat": 4,
 "nbformat_minor": 5
}
